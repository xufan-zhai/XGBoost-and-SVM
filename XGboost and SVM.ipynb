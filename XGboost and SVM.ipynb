{
 "cells": [
  {
   "cell_type": "code",
   "execution_count": 58,
   "id": "a19f8f97",
   "metadata": {},
   "outputs": [],
   "source": [
    "import xgboost as xgb\n",
    "import random"
   ]
  },
  {
   "cell_type": "code",
   "execution_count": 2,
   "id": "00340087",
   "metadata": {},
   "outputs": [],
   "source": [
    "import os\n",
    "os.chdir('C:/Users/xufan/Downloads/231final')"
   ]
  },
  {
   "cell_type": "code",
   "execution_count": null,
   "id": "1870404f",
   "metadata": {},
   "outputs": [],
   "source": [
    "#xgboost begins here"
   ]
  },
  {
   "cell_type": "code",
   "execution_count": 159,
   "id": "8c6a8e5e",
   "metadata": {},
   "outputs": [],
   "source": [
    "import numpy as np\n",
    "import pandas as pd\n",
    "import matplotlib.pyplot as plt\n",
    "from sklearn.model_selection import train_test_split\n",
    "import xgboost as xgb\n",
    "from sklearn.svm import SVC\n",
    "\n",
    "def load_data():\n",
    "    # load data \n",
    "    data = pd.read_csv(\n",
    "        'http://archive.ics.uci.edu/ml/machine-learning-databases/spambase/spambase.data', header=None)\n",
    "    p_ = data.shape[1]\n",
    "    p = p_ - 1\n",
    "    X = data.iloc[:, :p]\n",
    "    y = data.iloc[:, p]\n",
    "    return X.values, y.values"
   ]
  },
  {
   "cell_type": "code",
   "execution_count": 160,
   "id": "eb441ad9",
   "metadata": {},
   "outputs": [],
   "source": [
    "X, y = load_data()\n"
   ]
  },
  {
   "cell_type": "code",
   "execution_count": 161,
   "id": "5b94ee34",
   "metadata": {},
   "outputs": [],
   "source": [
    "indices = np.random.permutation(X.shape[0])\n",
    "training_idx, test_idx = indices[:3655], indices[3655:]\n",
    "train_x, train_y = X[training_idx,:], y[training_idx]\n",
    "test_x,test_y=X[test_idx,:],y[test_idx]"
   ]
  },
  {
   "cell_type": "code",
   "execution_count": 62,
   "id": "efd75a82",
   "metadata": {
    "scrolled": true
   },
   "outputs": [
    {
     "name": "stdout",
     "output_type": "stream",
     "text": [
      "[01:24:08] WARNING: C:/Users/Administrator/workspace/xgboost-win64_release_1.5.1/src/learner.cc:1115: Starting in XGBoost 1.3.0, the default evaluation metric used with the objective 'binary:logistic' was changed from 'error' to 'logloss'. Explicitly set eval_metric if you'd like to restore the old behavior.\n"
     ]
    },
    {
     "name": "stderr",
     "output_type": "stream",
     "text": [
      "C:\\Users\\xufan\\Anaconda3\\lib\\site-packages\\xgboost\\sklearn.py:1224: UserWarning: The use of label encoder in XGBClassifier is deprecated and will be removed in a future release. To remove this warning, do the following: 1) Pass option use_label_encoder=False when constructing XGBClassifier object; and 2) Encode your labels (y) as integers starting with 0, i.e. 0, 1, 2, ..., [num_class - 1].\n",
      "  warnings.warn(label_encoder_deprecation_msg, UserWarning)\n"
     ]
    },
    {
     "data": {
      "text/plain": [
       "XGBClassifier(base_score=0.5, booster='gbtree', colsample_bylevel=1,\n",
       "              colsample_bynode=1, colsample_bytree=1, enable_categorical=False,\n",
       "              gamma=0, gpu_id=-1, importance_type=None,\n",
       "              interaction_constraints='', learning_rate=0.300000012,\n",
       "              max_delta_step=0, max_depth=6, min_child_weight=1, missing=nan,\n",
       "              monotone_constraints='()', n_estimators=100, n_jobs=16,\n",
       "              num_parallel_tree=1, predictor='auto', random_state=0,\n",
       "              reg_alpha=0, reg_lambda=1, scale_pos_weight=1, subsample=1,\n",
       "              tree_method='exact', validate_parameters=1, verbosity=None)"
      ]
     },
     "execution_count": 62,
     "metadata": {},
     "output_type": "execute_result"
    }
   ],
   "source": [
    "xgbc = xgb.XGBClassifier()\n",
    "xgbc.fit(train_x,train_y)"
   ]
  },
  {
   "cell_type": "code",
   "execution_count": 63,
   "id": "253cd6e5",
   "metadata": {},
   "outputs": [
    {
     "name": "stdout",
     "output_type": "stream",
     "text": [
      "train accuracy is: 0.9975376196990424\n",
      "test accuracy is: 0.9482029598308668\n"
     ]
    }
   ],
   "source": [
    "ypred = xgbc.predict(test_x)\n",
    "train_pred=xgbc.predict(train_x)\n",
    "accuracy_test=sum(ypred==test_y)/len(test_y)\n",
    "accuracy_train=sum(train_pred==train_y)/len(train_y)\n",
    "print('train accuracy is: '+str(accuracy_train))\n",
    "print('test accuracy is: '+str(accuracy_test))"
   ]
  },
  {
   "cell_type": "code",
   "execution_count": 86,
   "id": "794fe1e4",
   "metadata": {},
   "outputs": [
    {
     "name": "stdout",
     "output_type": "stream",
     "text": [
      "[01:59:00] WARNING: C:/Users/Administrator/workspace/xgboost-win64_release_1.5.1/src/learner.cc:1115: Starting in XGBoost 1.3.0, the default evaluation metric used with the objective 'binary:logistic' was changed from 'error' to 'logloss'. Explicitly set eval_metric if you'd like to restore the old behavior.\n",
      "train accuracy is: 0.999452804377565\n",
      "test accuracy is: 0.9630021141649049\n"
     ]
    }
   ],
   "source": [
    "xgbc1=xgb.XGBClassifier(n_estimators=150,max_depth=40)\n",
    "xgbc1.fit(train_x,train_y)\n",
    "ypred1 = xgbc1.predict(test_x)\n",
    "train_pred1=xgbc1.predict(train_x)\n",
    "accuracy_test=sum(ypred1==test_y)/len(test_y)\n",
    "accuracy_train=sum(train_pred1==train_y)/len(train_y)\n",
    "print('train accuracy is: '+str(accuracy_train))\n",
    "print('test accuracy is: '+str(accuracy_test))"
   ]
  },
  {
   "cell_type": "code",
   "execution_count": 9,
   "id": "22ab2a4d",
   "metadata": {},
   "outputs": [],
   "source": [
    "#svm package"
   ]
  },
  {
   "cell_type": "code",
   "execution_count": 236,
   "id": "55ae4f78",
   "metadata": {},
   "outputs": [
    {
     "data": {
      "text/plain": [
       "Pipeline(steps=[('standardscaler', StandardScaler()),\n",
       "                ('svc', SVC(C=5, gamma='auto', max_iter=3000))])"
      ]
     },
     "execution_count": 236,
     "metadata": {},
     "output_type": "execute_result"
    }
   ],
   "source": [
    "import numpy as np\n",
    "from sklearn.pipeline import make_pipeline\n",
    "from sklearn.preprocessing import StandardScaler\n",
    "\n",
    "from sklearn.svm import SVC\n",
    "clf = make_pipeline(StandardScaler(), SVC(gamma='auto',C=5,max_iter=3000,kernel='rbf'))\n",
    "clf.fit(train_x, train_y)"
   ]
  },
  {
   "cell_type": "code",
   "execution_count": 237,
   "id": "e85a7658",
   "metadata": {},
   "outputs": [
    {
     "name": "stdout",
     "output_type": "stream",
     "text": [
      "train accuracy is: 0.960875512995896\n",
      "test accuracy is: 0.9207188160676533\n"
     ]
    }
   ],
   "source": [
    "ypred = clf.predict(test_x)\n",
    "train_pred=clf.predict(train_x)\n",
    "accuracy_test=sum(ypred==test_y)/len(test_y)\n",
    "accuracy_train=sum(train_pred==train_y)/len(train_y)\n",
    "print('train accuracy is: '+str(accuracy_train))\n",
    "print('test accuracy is: '+str(accuracy_test))"
   ]
  },
  {
   "cell_type": "code",
   "execution_count": null,
   "id": "d7172b1b",
   "metadata": {},
   "outputs": [],
   "source": [
    "#linear SVM begins here"
   ]
  },
  {
   "cell_type": "code",
   "execution_count": 142,
   "id": "2cf70101",
   "metadata": {},
   "outputs": [
    {
     "data": {
      "text/plain": [
       "<matplotlib.legend.Legend at 0x2971903ef40>"
      ]
     },
     "execution_count": 142,
     "metadata": {},
     "output_type": "execute_result"
    },
    {
     "data": {
      "image/png": "[encoded data removed]",
      "text/plain": [
       "<Figure size 432x288 with 1 Axes>"
      ]
     },
     "metadata": {
      "needs_background": "light"
     },
     "output_type": "display_data"
    }
   ],
   "source": [
    "#linear svm toy data\n",
    "import numpy as np\n",
    "from matplotlib import pyplot as plt\n",
    "\n",
    "# Generate data\n",
    "def load_data():\n",
    "\t# generate random 2-D data\n",
    "\tX_pos = np.random.randn(1000, 2) * np.array([[0.7, 0.8]]) + np.array([[-2.0, -2.0]])\n",
    "\tX_neg = np.random.randn(1000, 2) * np.array([[1.0, 0.8]]) + np.array([[1.25, 1.25]])\n",
    "\tX = np.concatenate([X_pos, X_neg], axis=0)\n",
    "\ty = np.concatenate([np.ones(1000), -np.ones(1000)])\n",
    "\treturn X, y\n",
    "\n",
    "# here is the visualization of data\n",
    "X, y = load_data()\n",
    "plt.figure()\n",
    "plt.scatter(X[y==1][:, 0], X[y==1][:, 1], c='red', label='class 1')\n",
    "plt.scatter(X[y==-1][:, 0], X[y==-1][:, 1], c='blue', label='class 0')\n",
    "plt.legend()\n"
   ]
  },
  {
   "cell_type": "code",
   "execution_count": 143,
   "id": "98dc0ceb",
   "metadata": {},
   "outputs": [],
   "source": [
    "indices = np.random.permutation(X.shape[0])\n",
    "training_idx, test_idx = indices[:800], indices[200:]\n",
    "train_x, train_y = X[training_idx,:], y[training_idx]\n",
    "test_x,test_y=X[test_idx,:],y[test_idx]"
   ]
  },
  {
   "cell_type": "code",
   "execution_count": 112,
   "id": "d1a44ccb",
   "metadata": {},
   "outputs": [],
   "source": [
    "import numpy as np \n",
    "testaccu_list=[]\n",
    "trainaccu_list=[]\n",
    "class mySVM:\n",
    "\n",
    "    def __init__(self, learning_rate=0.001, lambda_param=0.01, n_iters=1000):\n",
    "        self.lr = learning_rate\n",
    "        self.lambda_param = lambda_param\n",
    "        self.n_iters = n_iters\n",
    "        self.w = None\n",
    "        self.b = None\n",
    "        \n",
    "\n",
    "    def fit(self, X, y):\n",
    "        n_samples, n_features = X.shape\n",
    "        \n",
    "        y_ = np.where(y <= 0, -1, 1)\n",
    "        \n",
    "        self.w = np.zeros(n_features)\n",
    "        self.b = 0\n",
    "\n",
    "        for _ in range(self.n_iters):\n",
    "            for idx, x_i in enumerate(X):\n",
    "                condition = (y_[idx] * (np.dot(x_i, self.w) - self.b) >= 1)\n",
    "                if condition:\n",
    "                    self.w -= self.lr * (  2*self.lambda_param * self.w)\n",
    "                else:\n",
    "                    self.w -= self.lr * (  2*self.lambda_param * self.w - np.dot(x_i, y_[idx]))\n",
    "                    self.b -= self.lr * y_[idx]\n",
    "                test_result=self.predict(test_x)\n",
    "                train_result=self.predict(train_x)\n",
    "    def predict(self, X):\n",
    "        approx = np.dot(X, self.w) - self.b\n",
    "        return np.sign(approx)"
   ]
  },
  {
   "cell_type": "code",
   "execution_count": 113,
   "id": "33183e36",
   "metadata": {},
   "outputs": [],
   "source": [
    "test=mySVM(learning_rate=0.001, lambda_param=0.01, n_iters=1000)\n",
    "test.fit(X=train_x,y=train_y)"
   ]
  },
  {
   "cell_type": "code",
   "execution_count": 128,
   "id": "4ec56b38",
   "metadata": {},
   "outputs": [
    {
     "name": "stdout",
     "output_type": "stream",
     "text": [
      "train accuracy is: 0.99875\n",
      "test accuracy is: 0.9955555555555555\n"
     ]
    }
   ],
   "source": [
    "\n",
    "ypred = test.predict(test_x)\n",
    "train_pred=test.predict(train_x)\n",
    "accuracy_test=sum(ypred==test_y)/len(test_y)\n",
    "accuracy_train=sum(train_pred==train_y)/len(train_y)\n",
    "print('train accuracy is: '+str(accuracy_train))\n",
    "print('test accuracy is: '+str(accuracy_test))"
   ]
  },
  {
   "cell_type": "code",
   "execution_count": 144,
   "id": "e697b1d1",
   "metadata": {},
   "outputs": [],
   "source": [
    "import numpy as np \n",
    "lr = 0.001\n",
    "lambda_param = 0.01\n",
    "n_iters = 1000\n",
    "w = None\n",
    "b = None\n",
    "testaccu_list=[]\n",
    "trainaccu_list=[]\n",
    "\n",
    "\n",
    "n_samples, n_features = train_x.shape\n",
    "        \n",
    "y_ = np.where(train_y <= 0, -1, 1)\n",
    "        \n",
    "w = np.zeros(n_features)\n",
    "b = 0\n",
    "\n",
    "for i in range(n_iters):\n",
    "    for idx, x_i in enumerate(train_x):\n",
    "        condition = (y_[idx] * (np.dot(x_i, w) - b) >= 1)\n",
    "        \n",
    "        if condition:\n",
    "            w -= lr * (  2*lambda_param * w)\n",
    "        else:\n",
    "            w -= lr * (  2*lambda_param * w - np.dot(x_i, y_[idx]))\n",
    "            b -= lr * y_[idx]\n",
    "    test_acc=sum((np.sign(np.dot(test_x, w) - b))==test_y)/len(test_y)\n",
    "    train_acc=sum((np.sign(np.dot(train_x, w) - b))==train_y)/len(train_y)\n",
    "    testaccu_list.append(test_acc)\n",
    "    trainaccu_list.append(train_acc)\n"
   ]
  },
  {
   "cell_type": "code",
   "execution_count": 145,
   "id": "6299a133",
   "metadata": {},
   "outputs": [
    {
     "data": {
      "text/plain": [
       "<matplotlib.legend.Legend at 0x29710a5dfd0>"
      ]
     },
     "execution_count": 145,
     "metadata": {},
     "output_type": "execute_result"
    },
    {
     "data": {
      "image/png": "[encoded data removed]",
      "text/plain": [
       "<Figure size 432x288 with 1 Axes>"
      ]
     },
     "metadata": {
      "needs_background": "light"
     },
     "output_type": "display_data"
    }
   ],
   "source": [
    "plt.plot(testaccu_list,color='r',label='test_accuracy')\n",
    "plt.plot(trainaccu_list,label='train_accuracy')\n",
    "plt.legend()"
   ]
  }
 ],
 "metadata": {
  "kernelspec": {
   "display_name": "Python 3",
   "language": "python",
   "name": "python3"
  },
  "language_info": {
   "codemirror_mode": {
    "name": "ipython",
    "version": 3
   },
   "file_extension": ".py",
   "mimetype": "text/x-python",
   "name": "python",
   "nbconvert_exporter": "python",
   "pygments_lexer": "ipython3",
   "version": "3.8.8"
  }
 },
 "nbformat": 4,
 "nbformat_minor": 5
}
